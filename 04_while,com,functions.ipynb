{
 "cells": [
  {
   "cell_type": "markdown",
   "id": "24a60c6c-748a-4558-941d-94a0142754be",
   "metadata": {},
   "source": [
    "While loop:"
   ]
  },
  {
   "cell_type": "code",
   "execution_count": 3,
   "id": "25f837ac-58ac-4e6e-a90e-65997739c9d8",
   "metadata": {},
   "outputs": [
    {
     "name": "stdout",
     "output_type": "stream",
     "text": [
      "1\n",
      "2\n",
      "3\n",
      "4\n",
      "5\n"
     ]
    }
   ],
   "source": [
    "i=1\n",
    "while i<=5:\n",
    "    print(i)\n",
    "    i=i+1"
   ]
  },
  {
   "cell_type": "code",
   "execution_count": 3,
   "id": "c5fb9170-ffd1-4bf1-9512-24aeef8c4262",
   "metadata": {},
   "outputs": [
    {
     "name": "stdin",
     "output_type": "stream",
     "text": [
      "how many number: 5\n"
     ]
    },
    {
     "name": "stdout",
     "output_type": "stream",
     "text": [
      "15\n"
     ]
    }
   ],
   "source": [
    "#sum up the number till some point \n",
    "num=int(input(\"how many number:\")) \n",
    "sum=0\n",
    "i=1\n",
    "while i<=num:\n",
    "    #a=int(input(\"enter your number:\"))    with user input \n",
    "    sum=sum+i                              # without user input \n",
    "    i=i+1 \n",
    "print(sum)"
   ]
  },
  {
   "cell_type": "code",
   "execution_count": 7,
   "id": "93298369-ab07-43ab-a20e-4a9383c39564",
   "metadata": {},
   "outputs": [
    {
     "name": "stdin",
     "output_type": "stream",
     "text": [
      "enter your number: 10\n"
     ]
    },
    {
     "name": "stdout",
     "output_type": "stream",
     "text": [
      "3628800\n"
     ]
    }
   ],
   "source": [
    "# Factorial number   5!=1*2*3*4*5\n",
    "n=int(input(\"enter your number:\"))\n",
    "i=1\n",
    "fact=1\n",
    "while i<=n:\n",
    "    fact=fact*i\n",
    "    i=i+1\n",
    "print(fact)"
   ]
  },
  {
   "cell_type": "code",
   "execution_count": 17,
   "id": "a1fc5c1e-79d0-4897-be8a-5f564f874ba2",
   "metadata": {},
   "outputs": [
    {
     "name": "stdin",
     "output_type": "stream",
     "text": [
      "how many number: 5\n"
     ]
    },
    {
     "data": {
      "text/plain": [
       "[0, 1, 1, 2, 3]"
      ]
     },
     "execution_count": 17,
     "metadata": {},
     "output_type": "execute_result"
    }
   ],
   "source": [
    "# fibonacci number\n",
    "n=int(input(\"how many number:\"))\n",
    "i=1\n",
    "l1=[]\n",
    "a,b=0,1\n",
    "while i<=n:\n",
    "\tl1.append(a)\n",
    "\tc=a+b\n",
    "\ta=b\n",
    "\tb=c\n",
    "\ti=i+1\n",
    "\t#l1.append(a)\n",
    "l1"
   ]
  },
  {
   "cell_type": "code",
   "execution_count": 18,
   "id": "e1a5cf68-5a4f-4c47-820d-bf772815c585",
   "metadata": {},
   "outputs": [
    {
     "name": "stdout",
     "output_type": "stream",
     "text": [
      "upid\n"
     ]
    }
   ],
   "source": [
    "s=\"dipu\"\n",
    "rev=\"\"\n",
    "length=len(s)\n",
    "while length>0:\n",
    "    rev=rev+s[length-1]\n",
    "    length=length-1\n",
    "print(rev)\n",
    "    "
   ]
  },
  {
   "cell_type": "code",
   "execution_count": 20,
   "id": "6ca4f99d-7d53-4557-98ef-97d8cd7050a0",
   "metadata": {},
   "outputs": [
    {
     "name": "stdout",
     "output_type": "stream",
     "text": [
      "1\n",
      "2\n",
      "3\n",
      "4\n",
      "this will be executed once your while will complete it succesfully!\n"
     ]
    }
   ],
   "source": [
    "n=5\n",
    "i=1\n",
    "while i<n:\n",
    "    print(i)\n",
    "    i=i+1                  # also use beark and continue \n",
    "else:\n",
    "    print(\"this will be executed once your while will complete it succesfully!\")"
   ]
  },
  {
   "cell_type": "code",
   "execution_count": null,
   "id": "f88180c7-f6c8-4250-88ad-66efd06f603e",
   "metadata": {},
   "outputs": [],
   "source": []
  },
  {
   "cell_type": "markdown",
   "id": "816bfc8a-0045-49da-8df3-352b8622b437",
   "metadata": {},
   "source": [
    "Comprehension:"
   ]
  },
  {
   "cell_type": "code",
   "execution_count": 21,
   "id": "fc99459e-1e1a-413d-b8af-cbfd4b1dc72f",
   "metadata": {},
   "outputs": [
    {
     "data": {
      "text/plain": [
       "[1, 4, 9, 16, 2025, 25]"
      ]
     },
     "execution_count": 21,
     "metadata": {},
     "output_type": "execute_result"
    }
   ],
   "source": [
    "l=[1,2,3,4,45,5]\n",
    "[i**2 for i in l]"
   ]
  },
  {
   "cell_type": "code",
   "execution_count": 26,
   "id": "ae4cdf6b-0075-47df-a51e-3ecd9696e6f1",
   "metadata": {},
   "outputs": [
    {
     "data": {
      "text/plain": [
       "[2, 4]"
      ]
     },
     "execution_count": 26,
     "metadata": {},
     "output_type": "execute_result"
    }
   ],
   "source": [
    "[i for i in l if i%2==0]"
   ]
  },
  {
   "cell_type": "code",
   "execution_count": 27,
   "id": "74467ced-6c38-4710-8235-fe12cf4ae6f6",
   "metadata": {},
   "outputs": [
    {
     "data": {
      "text/plain": [
       "['SUDH', 'PWSKILL', 'KUMAR', 'DATA SCIENCE MASTER']"
      ]
     },
     "execution_count": 27,
     "metadata": {},
     "output_type": "execute_result"
    }
   ],
   "source": [
    "l1=[\"sudh\",\"pwskill\",\"kumar\",\"data science master\"]\n",
    "[i.upper() for i in l1]"
   ]
  },
  {
   "cell_type": "code",
   "execution_count": 28,
   "id": "94990d9d-9dd7-45c7-825a-d93268f6f17e",
   "metadata": {},
   "outputs": [
    {
     "data": {
      "text/plain": [
       "[1, 4, 9, 16, 2025, 25]"
      ]
     },
     "execution_count": 28,
     "metadata": {},
     "output_type": "execute_result"
    }
   ],
   "source": [
    "list(i**2 for i in l)"
   ]
  },
  {
   "cell_type": "code",
   "execution_count": 33,
   "id": "a3548519-4083-4024-add4-da4c3fc5c7b3",
   "metadata": {},
   "outputs": [
    {
     "data": {
      "text/plain": [
       "{'key1': 1, 'key2': 4, 'key3': 9, 'key4': 16}"
      ]
     },
     "execution_count": 33,
     "metadata": {},
     "output_type": "execute_result"
    }
   ],
   "source": [
    "d={'key1': 1,'key2': 2,'key3': 3,'key4': 4}\n",
    "{k:v**2 for k,v in d.items()}"
   ]
  },
  {
   "cell_type": "code",
   "execution_count": 39,
   "id": "6f25bdd5-ea20-41eb-9d99-104fe031f1a6",
   "metadata": {},
   "outputs": [
    {
     "data": {
      "text/plain": [
       "{'key2': 2, 'key3': 3, 'key4': 4}"
      ]
     },
     "execution_count": 39,
     "metadata": {},
     "output_type": "execute_result"
    }
   ],
   "source": [
    "{k:v for k,v in d.items() if v>1}"
   ]
  },
  {
   "cell_type": "code",
   "execution_count": null,
   "id": "2028bc2a-f660-4b8d-8099-aa7da83b0b44",
   "metadata": {},
   "outputs": [],
   "source": []
  },
  {
   "cell_type": "markdown",
   "id": "88bd2591-3eb7-4df4-b880-72c1fa7e49bf",
   "metadata": {},
   "source": [
    "Functions:"
   ]
  },
  {
   "cell_type": "code",
   "execution_count": 41,
   "id": "28d3a852-8d73-403a-918d-75e16f88e046",
   "metadata": {},
   "outputs": [
    {
     "name": "stdout",
     "output_type": "stream",
     "text": [
      "this is my first function\n"
     ]
    }
   ],
   "source": [
    "def test(): # def functionname :\n",
    "    print(\"this is my first function\")     #statement\n",
    "test()         # function call"
   ]
  },
  {
   "cell_type": "code",
   "execution_count": 47,
   "id": "6849839b-efe3-4150-8374-c133d6cb9c5d",
   "metadata": {},
   "outputs": [
    {
     "data": {
      "text/plain": [
       "'this is my very first function dipesh'"
      ]
     },
     "execution_count": 47,
     "metadata": {},
     "output_type": "execute_result"
    }
   ],
   "source": [
    "def test2():\n",
    "    return \"this is my very first function\"\n",
    "test2()+\" dipesh\"        # continuation "
   ]
  },
  {
   "cell_type": "code",
   "execution_count": 3,
   "id": "a5cfd0cd-d56a-4396-b3e6-adccc9459b27",
   "metadata": {},
   "outputs": [
    {
     "data": {
      "text/plain": [
       "'sudh'"
      ]
     },
     "execution_count": 3,
     "metadata": {},
     "output_type": "execute_result"
    }
   ],
   "source": [
    "def test3():\n",
    "    return \"sudh\",23,234.45,[1,2,3]\n",
    "a,b,c,d=test3()\n",
    "a"
   ]
  },
  {
   "cell_type": "code",
   "execution_count": 4,
   "id": "7a9afea0-f104-40ec-b33b-03be782bf867",
   "metadata": {},
   "outputs": [
    {
     "data": {
      "text/plain": [
       "2.75"
      ]
     },
     "execution_count": 4,
     "metadata": {},
     "output_type": "execute_result"
    }
   ],
   "source": [
    "def test4():\n",
    "    a=2+3/4\n",
    "    return a\n",
    "test4()"
   ]
  },
  {
   "cell_type": "code",
   "execution_count": 5,
   "id": "7d529eec-d9c7-4701-ba5d-88265978c575",
   "metadata": {},
   "outputs": [
    {
     "data": {
      "text/plain": [
       "2.75"
      ]
     },
     "execution_count": 5,
     "metadata": {},
     "output_type": "execute_result"
    }
   ],
   "source": [
    "def test5(a,b,c):\n",
    "    d=a+b/c\n",
    "    return d\n",
    "test5(2,3,4)"
   ]
  },
  {
   "cell_type": "code",
   "execution_count": 4,
   "id": "b191c6e0-dce1-4d4b-b106-9aa20606ed18",
   "metadata": {},
   "outputs": [],
   "source": [
    "def test6(l):\n",
    "    '''this is my function to extract number data from list'''\n",
    "    \n",
    "    l0=[]\n",
    "    for i in l:\n",
    "        if type(i)==list:\n",
    "            for j in i:\n",
    "                l0.append(j)\n",
    "        else:\n",
    "            if type(i)== int or type(i)==float:\n",
    "                l0.append(i)\n",
    "    return l0"
   ]
  },
  {
   "cell_type": "code",
   "execution_count": 5,
   "id": "9432bdb8-0e72-4ea1-b6de-a8ed7c276e52",
   "metadata": {},
   "outputs": [
    {
     "data": {
      "text/plain": [
       "[1, 2, 3, 4, 1, 2, 3, 4, 5, 6]"
      ]
     },
     "execution_count": 5,
     "metadata": {},
     "output_type": "execute_result"
    }
   ],
   "source": [
    "l=[1,2,3,4,\"sudh\",\"kumar\",[1,2,3,4,5,6]]\n",
    "test6(l)"
   ]
  },
  {
   "cell_type": "code",
   "execution_count": 8,
   "id": "fc29e9f6-60a1-4282-ac1c-cce1d5b88a52",
   "metadata": {},
   "outputs": [
    {
     "data": {
      "text/plain": [
       "(1, 2, 3, 'sudh', 'kumar', [1, 2, 3, 4])"
      ]
     },
     "execution_count": 8,
     "metadata": {},
     "output_type": "execute_result"
    }
   ],
   "source": [
    "def test9(*args):\n",
    "    return args\n",
    "test9(1,2,3,\"sudh\",\"kumar\",[1,2,3,4])"
   ]
  },
  {
   "cell_type": "code",
   "execution_count": 9,
   "id": "d0124c74-6c9d-477c-9244-47fc8df9e04b",
   "metadata": {},
   "outputs": [
    {
     "data": {
      "text/plain": [
       "((1, 2, 3, 4), 5)"
      ]
     },
     "execution_count": 9,
     "metadata": {},
     "output_type": "execute_result"
    }
   ],
   "source": [
    "def test10(*args,a):\n",
    "    return args , a\n",
    "test10(1,2,3,4,a=5)"
   ]
  },
  {
   "cell_type": "code",
   "execution_count": 12,
   "id": "726ce79c-6ff3-462d-bc15-c73ca1c35220",
   "metadata": {},
   "outputs": [
    {
     "data": {
      "text/plain": [
       "{'name': 'dipesh', 'b': [1, 2, 3, 4, 5], 'c': 23.45}"
      ]
     },
     "execution_count": 12,
     "metadata": {},
     "output_type": "execute_result"
    }
   ],
   "source": [
    "def test11(**args):\n",
    "    return args\n",
    "type(test11())\n",
    "test11(name=\"dipesh\",b=[1,2,3,4,5],c=23.45)"
   ]
  },
  {
   "cell_type": "code",
   "execution_count": null,
   "id": "be64720a-121f-44cc-bf35-6b03a2fc17ab",
   "metadata": {},
   "outputs": [],
   "source": []
  }
 ],
 "metadata": {
  "kernelspec": {
   "display_name": "Python 3 (ipykernel)",
   "language": "python",
   "name": "python3"
  },
  "language_info": {
   "codemirror_mode": {
    "name": "ipython",
    "version": 3
   },
   "file_extension": ".py",
   "mimetype": "text/x-python",
   "name": "python",
   "nbconvert_exporter": "python",
   "pygments_lexer": "ipython3",
   "version": "3.10.8"
  }
 },
 "nbformat": 4,
 "nbformat_minor": 5
}
