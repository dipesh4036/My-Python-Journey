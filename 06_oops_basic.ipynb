{
 "cells": [
  {
   "cell_type": "markdown",
   "id": "894bd36d-204b-444f-b438-ff0fabaeb77f",
   "metadata": {},
   "source": [
    "OOPS Basic:"
   ]
  },
  {
   "cell_type": "code",
   "execution_count": 1,
   "id": "7a6ed324-a45b-4c14-9981-07a2461af607",
   "metadata": {},
   "outputs": [
    {
     "name": "stdout",
     "output_type": "stream",
     "text": [
      "welcome to pwskill\n"
     ]
    }
   ],
   "source": [
    "class pwskill:                          # Create a class \n",
    "    def welcome_msg(self):              # Create Function \n",
    "        print(\"welcome to pwskill\")\n",
    "a=pwskill()                             # Create a Object\n",
    "a.welcome_msg()                         # function call"
   ]
  },
  {
   "cell_type": "code",
   "execution_count": 8,
   "id": "4fd61763-4024-42bc-867c-ddda0dda4a0d",
   "metadata": {},
   "outputs": [
    {
     "name": "stdout",
     "output_type": "stream",
     "text": [
      "ramesh is a accountant\n",
      "rahul is a software developer\n",
      "dipesh is a software developer\n"
     ]
    }
   ],
   "source": [
    "# Basic, what is class and object how to create object and obj. call\n",
    "\n",
    "# self keyword: the object for which the method call is being made \n",
    "class person:\n",
    "    name=\"dipesh\"\n",
    "    networth=10\n",
    "    occupation=\"software developer\"\n",
    "    \n",
    "    def info(self):\n",
    "        print(f\"{self.name} is a {self.occupation}\")\n",
    "        \n",
    "a=person()     # create a first object\n",
    "b=person()     # create a second object\n",
    "c=person()     # create a third object\n",
    "a.name=\"ramesh\"   # change a name\n",
    "a.occupation=\"accountant\"\n",
    "a.info()          # first object call\n",
    "b.name=\"rahul\"\n",
    "a.occupation=\"HR\" \n",
    "b.info()         # second object call\n",
    "c.info()         # third object call"
   ]
  },
  {
   "cell_type": "markdown",
   "id": "05a657d9-bf89-425d-8ab2-3af79c7b41d2",
   "metadata": {},
   "source": [
    "Constructors:"
   ]
  },
  {
   "cell_type": "code",
   "execution_count": 13,
   "id": "3f28c364-7e6e-47fe-a408-b8b0a6cd65dc",
   "metadata": {},
   "outputs": [
    {
     "name": "stdout",
     "output_type": "stream",
     "text": [
      "Dipesh is a Developer\n",
      "Ramesh is a HR\n"
     ]
    }
   ],
   "source": [
    "# def __init__(self)   this is Constructors method, how Constructors we create.\n",
    "\n",
    "class person1:\n",
    "    def __init__(self,name,occ):      # this is constructor, we give arguments. \n",
    "        self.name=name\n",
    "        self.occ=occ\n",
    "        \n",
    "    def info1(self):\n",
    "        print(f\"{self.name} is a {self.occ}\")\n",
    "        \n",
    "a1=person1(\"Dipesh\",\"Developer\")\n",
    "b1=person1(\"Ramesh\",\"HR\")\n",
    "a1.info1()\n",
    "b1.info1()"
   ]
  },
  {
   "cell_type": "code",
   "execution_count": 6,
   "id": "a8e58418-ed86-409f-b4e8-f098503b1a55",
   "metadata": {},
   "outputs": [
    {
     "data": {
      "text/plain": [
       "123456789"
      ]
     },
     "execution_count": 6,
     "metadata": {},
     "output_type": "execute_result"
    }
   ],
   "source": [
    "class pwskills:\n",
    "    def __init__(self,phone_no,email_id,student_id):\n",
    "        self.phone_no=phone_no\n",
    "        self.email_id=email_id                               # here inplace of self we can write anything\n",
    "        self.student_id=student_id\n",
    "        \n",
    "    def return_student_detials(self):\n",
    "        return self.student_id,self.email_id,self.phone_no\n",
    "    \n",
    "a=pwskills(123456789,'a@123.gmail.com',101) \n",
    "\n",
    "a.return_student_detials()\n",
    "a.phone_no"
   ]
  },
  {
   "cell_type": "code",
   "execution_count": 1,
   "id": "be093d3a-1517-4b1f-8c72-67fb98fd28a1",
   "metadata": {},
   "outputs": [
    {
     "data": {
      "text/plain": [
       "20"
      ]
     },
     "execution_count": 1,
     "metadata": {},
     "output_type": "execute_result"
    }
   ],
   "source": [
    "# Getters and Setters\n",
    "''' he getters do not take any parameters and we cannot set the value through getter method.\n",
    "    For that we need setter method which can be added by decorating method '''\n",
    "class MyClass:\n",
    "    def __init__(self, value):\n",
    "        self._value = value\n",
    "\n",
    "    @property\n",
    "    def value(self):\n",
    "        return self._value      # Getters\n",
    "\n",
    "    @value.setter\n",
    "    def value(self, new_value):  # Setters\n",
    "        self._value = new_value\n",
    "        \n",
    "\n",
    "obj = MyClass(10)\n",
    "obj.value = 20\n",
    "obj.value"
   ]
  },
  {
   "cell_type": "markdown",
   "id": "81b2c23b-0d4b-4862-a580-84259d6e1f91",
   "metadata": {},
   "source": [
    "Polymorphism:"
   ]
  },
  {
   "cell_type": "code",
   "execution_count": 8,
   "id": "d23196fa-f77d-402e-9445-51f21b3c2db7",
   "metadata": {},
   "outputs": [
    {
     "data": {
      "text/plain": [
       "[1, 2, 3, 4, 5, 6, 7, 8]"
      ]
     },
     "execution_count": 8,
     "metadata": {},
     "output_type": "execute_result"
    }
   ],
   "source": [
    "def test(a,b):      # using normal function\n",
    "    return a+b\n",
    "test(3,4)             # same function name but diff work here addition of two number\n",
    "test(\"sudh\",\"kumar\")  #  here, continuation of two string\n",
    "test([1,2,3,4],[5,6,7,8])   # here, continuation of two list"
   ]
  },
  {
   "cell_type": "code",
   "execution_count": 2,
   "id": "33a9f032-a1cd-4c34-b042-c3cfaabb1856",
   "metadata": {},
   "outputs": [
    {
     "name": "stdout",
     "output_type": "stream",
     "text": [
      "this is my syllabus for data science masters \n",
      "this is  my subllabus for web dev\n"
     ]
    }
   ],
   "source": [
    "class data_science:\n",
    "    \n",
    "    def syllabus(self) : \n",
    "        print(\"this is my syllabus for data science masters \")\n",
    "        \n",
    "class web_dev:\n",
    "    \n",
    "    def syllabus(self) : \n",
    "        print(\"this is  my subllabus for web dev\" )\n",
    "        \n",
    "def class_parcer(class_obj):\n",
    "    for i in class_obj : \n",
    "        i.syllabus()\n",
    "        \n",
    "data_science = data_science()\n",
    "web_dev = web_dev()\n",
    "class_obj = [data_science , web_dev]\n",
    "class_parcer(class_obj)"
   ]
  },
  {
   "cell_type": "markdown",
   "id": "01db9a57-a5ab-43e7-afa0-6fad954200ed",
   "metadata": {},
   "source": [
    "Encapsulation"
   ]
  },
  {
   "cell_type": "code",
   "execution_count": 7,
   "id": "1c8c7ad0-e5ca-41b8-a34e-20d926963995",
   "metadata": {},
   "outputs": [
    {
     "data": {
      "text/plain": [
       "2021"
      ]
     },
     "execution_count": 7,
     "metadata": {},
     "output_type": "execute_result"
    }
   ],
   "source": [
    "class car:\n",
    "    def __init__(self,year,make,model,speed):\n",
    "        self.__year=year\n",
    "        self.__make=make\n",
    "        self.__model=model\n",
    "        self.__speed=0\n",
    "        \n",
    "    def set_speed(self,speed):\n",
    "        self.__speed=0 if speed<0 else speed\n",
    "        \n",
    "    def get_speed(self):\n",
    "        return self.__speed\n",
    "    \n",
    "obj3=car(2021,'toyata','innova',12)\n",
    "obj3._car__year"
   ]
  },
  {
   "cell_type": "code",
   "execution_count": 8,
   "id": "43596818-f8b8-4504-a213-7f2429c77a7f",
   "metadata": {},
   "outputs": [
    {
     "data": {
      "text/plain": [
       "345"
      ]
     },
     "execution_count": 8,
     "metadata": {},
     "output_type": "execute_result"
    }
   ],
   "source": [
    "obj3.set_speed(345)\n",
    "obj3.get_speed()"
   ]
  },
  {
   "cell_type": "code",
   "execution_count": 5,
   "id": "b813af8f-3a2b-4ac3-a40e-77967d18c491",
   "metadata": {},
   "outputs": [
    {
     "data": {
      "text/plain": [
       "6000"
      ]
     },
     "execution_count": 5,
     "metadata": {},
     "output_type": "execute_result"
    }
   ],
   "source": [
    "class bank_account : \n",
    "    def __init__(self , balance) : \n",
    "        self.__balanace = balance \n",
    "        \n",
    "    def deposit(self , amount) : \n",
    "        self.__balanace = self.__balanace + amount\n",
    "        \n",
    "    def withdaw(self ,amount) : \n",
    "        if self.__balanace >= amount :\n",
    "            self.__balanace = self.__balanace - amount\n",
    "            return True\n",
    "        else : \n",
    "            return False\n",
    "    \n",
    "    def get_banalnce(self):\n",
    "        return self.__balanace\n",
    "                  \n",
    "sudh = bank_account(1000)\n",
    "sudh.deposit(5000)\n",
    "sudh.get_banalnce()\n",
    "sudh.withdaw(9000)\n",
    "sudh.get_banalnce()"
   ]
  },
  {
   "cell_type": "markdown",
   "id": "4667ae48-51b5-483e-ac31-6c9372eeb3ca",
   "metadata": {},
   "source": [
    "Inheritance:"
   ]
  },
  {
   "cell_type": "code",
   "execution_count": 3,
   "id": "9541a856-cd03-4614-bfac-d2c7a6e362be",
   "metadata": {},
   "outputs": [
    {
     "data": {
      "text/plain": [
       "'this is my first class'"
      ]
     },
     "execution_count": 3,
     "metadata": {},
     "output_type": "execute_result"
    }
   ],
   "source": [
    "class test:\n",
    "    def test_math(self):\n",
    "        return 'this is my first class'      # simple inheritance\n",
    "class child_test(test):\n",
    "    pass   \n",
    "obj=child_test()\n",
    "obj.test_math()"
   ]
  },
  {
   "cell_type": "code",
   "execution_count": 6,
   "id": "e71eda74-48f0-40a7-b81c-91ac4c39e8e3",
   "metadata": {},
   "outputs": [
    {
     "data": {
      "text/plain": [
       "'this is class 2 method'"
      ]
     },
     "execution_count": 6,
     "metadata": {},
     "output_type": "execute_result"
    }
   ],
   "source": [
    "class class1:\n",
    "    def test_class1(self):\n",
    "        return 'this is class1 method'\n",
    "class class2(class1):\n",
    "    def test_class2(self):\n",
    "        return 'this is class 2 method'      # maltilevel Inheritance:\n",
    "class class3(class2):\n",
    "    pass\n",
    "obj=class3()\n",
    "obj.test_class1()\n",
    "obj.test_class2()"
   ]
  },
  {
   "cell_type": "code",
   "execution_count": 7,
   "id": "169e6ac8-2ea8-4eb8-b983-3da02cd7563a",
   "metadata": {},
   "outputs": [
    {
     "data": {
      "text/plain": [
       "'this is class1 method'"
      ]
     },
     "execution_count": 7,
     "metadata": {},
     "output_type": "execute_result"
    }
   ],
   "source": [
    "class class10:\n",
    "    def test_class10(self):\n",
    "        return 'this is my first classs'\n",
    "class class20:\n",
    "    def test_class20(self):\n",
    "        return 'this is my second class'\n",
    "class class30(class10,class20):\n",
    "    pass\n",
    "\n",
    "obj1=class30()\n",
    "obj.test_class1()\n",
    "    "
   ]
  },
  {
   "cell_type": "code",
   "execution_count": null,
   "id": "8091f3f5-d7ff-4d3f-97fb-9972364cd4c5",
   "metadata": {},
   "outputs": [],
   "source": []
  }
 ],
 "metadata": {
  "kernelspec": {
   "display_name": "Python 3 (ipykernel)",
   "language": "python",
   "name": "python3"
  },
  "language_info": {
   "codemirror_mode": {
    "name": "ipython",
    "version": 3
   },
   "file_extension": ".py",
   "mimetype": "text/x-python",
   "name": "python",
   "nbconvert_exporter": "python",
   "pygments_lexer": "ipython3",
   "version": "3.10.8"
  }
 },
 "nbformat": 4,
 "nbformat_minor": 5
}
