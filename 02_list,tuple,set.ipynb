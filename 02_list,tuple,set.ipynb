{
 "cells": [
  {
   "cell_type": "markdown",
   "id": "b7c224cc-b7de-4c20-ae54-4b01d60056af",
   "metadata": {},
   "source": [
    "List:"
   ]
  },
  {
   "cell_type": "code",
   "execution_count": 7,
   "id": "27f8592e-d061-4222-af81-0758a336481a",
   "metadata": {},
   "outputs": [
    {
     "data": {
      "text/plain": [
       "[(5+3j), True, 'dipu', 23.12, 12]"
      ]
     },
     "execution_count": 7,
     "metadata": {},
     "output_type": "execute_result"
    }
   ],
   "source": [
    "l=[12,23.12,\"dipu\",True,5+3j]\n",
    "type(l)\n",
    "l[3]     #indexing\n",
    "l[0:2:]   #slicing\n",
    "l[::-1]"
   ]
  },
  {
   "cell_type": "code",
   "execution_count": 9,
   "id": "f80783e3-1166-4834-a356-cd80f5fd011f",
   "metadata": {},
   "outputs": [
    {
     "ename": "TypeError",
     "evalue": "can only concatenate list (not \"str\") to list",
     "output_type": "error",
     "traceback": [
      "\u001b[0;31m---------------------------------------------------------------------------\u001b[0m",
      "\u001b[0;31mTypeError\u001b[0m                                 Traceback (most recent call last)",
      "Cell \u001b[0;32mIn[9], line 2\u001b[0m\n\u001b[1;32m      1\u001b[0m s\u001b[38;5;241m=\u001b[39m\u001b[38;5;124m\"\u001b[39m\u001b[38;5;124mpwskill\u001b[39m\u001b[38;5;124m\"\u001b[39m\n\u001b[0;32m----> 2\u001b[0m \u001b[43ml\u001b[49m\u001b[38;5;241;43m+\u001b[39;49m\u001b[43ms\u001b[49m\n",
      "\u001b[0;31mTypeError\u001b[0m: can only concatenate list (not \"str\") to list"
     ]
    }
   ],
   "source": [
    "s=\"pwskill\"\n",
    "l+s     #list + string"
   ]
  },
  {
   "cell_type": "code",
   "execution_count": 15,
   "id": "cc42dfc4-9d15-43bb-a564-d8c677002b8b",
   "metadata": {},
   "outputs": [
    {
     "data": {
      "text/plain": [
       "'Tr'"
      ]
     },
     "execution_count": 15,
     "metadata": {},
     "output_type": "execute_result"
    }
   ],
   "source": [
    "l[2][:2]       # remove of dipu to di \n",
    "str(l[3])[:2]    # True is bool vlaues so fist convert in str and op."
   ]
  },
  {
   "cell_type": "code",
   "execution_count": 25,
   "id": "2ee99074-f823-4aba-aab4-00ee3eedf565",
   "metadata": {},
   "outputs": [
    {
     "data": {
      "text/plain": [
       "[12, 23.12, 'dipu', True, (5+3j), 'pwskill', 1, 2, 3]"
      ]
     },
     "execution_count": 25,
     "metadata": {},
     "output_type": "execute_result"
    }
   ],
   "source": [
    "l1=[1,2,3]\n",
    "l1*3\n",
    "l+l1        #list 1 + list 2   this is same type of data type that's why both are marge"
   ]
  },
  {
   "cell_type": "code",
   "execution_count": 52,
   "id": "8b02b8c9-4941-447b-9045-87a6b31a5de3",
   "metadata": {},
   "outputs": [
    {
     "data": {
      "text/plain": [
       "[12, 23.12, 'dipu', True, (5+3j), 'pwskill', 'dipesh']"
      ]
     },
     "execution_count": 52,
     "metadata": {},
     "output_type": "execute_result"
    }
   ],
   "source": [
    "l.append(s)     # add object to the end of the list\n",
    "l.append(\"dipesh\")\n",
    "l[5][:2]\n",
    "l"
   ]
  },
  {
   "cell_type": "code",
   "execution_count": 60,
   "id": "fcbae6f7-5185-4188-8a5a-bdd4a4f8809e",
   "metadata": {},
   "outputs": [
    {
     "data": {
      "text/plain": [
       "[12, 23.12, 'dipu', True, (5+3j), 'pwskill', 's', 'u', 'd', 'h']"
      ]
     },
     "execution_count": 60,
     "metadata": {},
     "output_type": "execute_result"
    }
   ],
   "source": [
    "l.extend(\"sudh\")      #extend list by appending elements form the iterable\n",
    "l"
   ]
  },
  {
   "cell_type": "code",
   "execution_count": 63,
   "id": "68095838-1038-4701-8138-c21fb84097f1",
   "metadata": {},
   "outputs": [],
   "source": [
    "l.insert(2,\"sudh\")       #inster object before index(index,object)\n"
   ]
  },
  {
   "cell_type": "code",
   "execution_count": 66,
   "id": "3d0d974f-83ff-470d-8da0-86a4f9d5765c",
   "metadata": {},
   "outputs": [
    {
     "data": {
      "text/plain": [
       "[12, 34, [2, 4]]"
      ]
     },
     "execution_count": 66,
     "metadata": {},
     "output_type": "execute_result"
    }
   ],
   "source": [
    "#pop    remove and return indexing=-1\n",
    "#remove   remove with values\n",
    "l5=[12,34,[2,3,4]]\n",
    "l5[2].remove(3)\n",
    "l5"
   ]
  },
  {
   "cell_type": "code",
   "execution_count": null,
   "id": "076c8a50-f1e1-4481-a560-f772464c33ee",
   "metadata": {},
   "outputs": [],
   "source": [
    "#reverse\n",
    "#sort   same type of data type is sort\n",
    "#index\n",
    "#replace"
   ]
  },
  {
   "cell_type": "code",
   "execution_count": 70,
   "id": "21a4b315-eb82-4d90-8716-7e5507634af5",
   "metadata": {},
   "outputs": [
    {
     "ename": "TypeError",
     "evalue": "'str' object does not support item assignment",
     "output_type": "error",
     "traceback": [
      "\u001b[0;31m---------------------------------------------------------------------------\u001b[0m",
      "\u001b[0;31mTypeError\u001b[0m                                 Traceback (most recent call last)",
      "Cell \u001b[0;32mIn[70], line 3\u001b[0m\n\u001b[1;32m      1\u001b[0m l4\u001b[38;5;241m=\u001b[39m[\u001b[38;5;241m1\u001b[39m,\u001b[38;5;241m2\u001b[39m,\u001b[38;5;241m3\u001b[39m,\u001b[38;5;241m4\u001b[39m,\u001b[38;5;241m5\u001b[39m]\n\u001b[1;32m      2\u001b[0m string\u001b[38;5;241m=\u001b[39m\u001b[38;5;124m\"\u001b[39m\u001b[38;5;124msudh\u001b[39m\u001b[38;5;124m\"\u001b[39m\n\u001b[0;32m----> 3\u001b[0m \u001b[43mstring\u001b[49m\u001b[43m[\u001b[49m\u001b[38;5;241;43m0\u001b[39;49m\u001b[43m]\u001b[49m\u001b[38;5;241m=\u001b[39m\u001b[38;5;124m\"\u001b[39m\u001b[38;5;124ma\u001b[39m\u001b[38;5;124m\"\u001b[39m\n\u001b[1;32m      4\u001b[0m l4[\u001b[38;5;241m0\u001b[39m]\u001b[38;5;241m=\u001b[39m\u001b[38;5;241m3\u001b[39m\n",
      "\u001b[0;31mTypeError\u001b[0m: 'str' object does not support item assignment"
     ]
    }
   ],
   "source": [
    "l4=[1,2,3,4,5]\n",
    "string=\"sudh\"\n",
    "string[0]=\"a\"       # string is immutable\n",
    "l4[0]=3             # list is mutable"
   ]
  },
  {
   "cell_type": "code",
   "execution_count": null,
   "id": "0bba0994-04da-4d1a-976e-9437fd006ee2",
   "metadata": {},
   "outputs": [],
   "source": []
  },
  {
   "cell_type": "markdown",
   "id": "22ed5343-7b3b-4c5b-8f2e-08363760c317",
   "metadata": {},
   "source": [
    "Tuples:       immutable"
   ]
  },
  {
   "cell_type": "code",
   "execution_count": 5,
   "id": "0e5f5c55-29a0-4187-8f19-483d04cfa5d9",
   "metadata": {},
   "outputs": [
    {
     "data": {
      "text/plain": [
       "([2, 3, 4], (2+3j), False, 45.56, 'sudh', 5, 4, 3, 2)"
      ]
     },
     "execution_count": 5,
     "metadata": {},
     "output_type": "execute_result"
    }
   ],
   "source": [
    "t=(2,3,4,5,\"sudh\",45.56,False,2+3j,[2,3,4])\n",
    "type(t)\n",
    "len(t)\n",
    "t[0]      #indexing \n",
    "t[::-1]    #slicing"
   ]
  },
  {
   "cell_type": "code",
   "execution_count": 7,
   "id": "60470bcb-e25c-4a30-9c5c-72c489babe6b",
   "metadata": {},
   "outputs": [
    {
     "data": {
      "text/plain": [
       "4"
      ]
     },
     "execution_count": 7,
     "metadata": {},
     "output_type": "execute_result"
    }
   ],
   "source": [
    "t.count(2)\n",
    "t.index(\"sudh\")         # only two function are there count and index"
   ]
  },
  {
   "cell_type": "markdown",
   "id": "939620c0-cc8a-4b48-87e2-ef70a0c968db",
   "metadata": {},
   "source": [
    "Set:       immutable"
   ]
  },
  {
   "cell_type": "code",
   "execution_count": 8,
   "id": "badf6a0f-c487-4261-99f8-0f5e2f977561",
   "metadata": {},
   "outputs": [
    {
     "data": {
      "text/plain": [
       "dict"
      ]
     },
     "execution_count": 8,
     "metadata": {},
     "output_type": "execute_result"
    }
   ],
   "source": [
    "s={}\n",
    "type(s)"
   ]
  },
  {
   "cell_type": "code",
   "execution_count": 10,
   "id": "7c736a33-53db-421f-8fe6-79fb5c6a839c",
   "metadata": {},
   "outputs": [
    {
     "ename": "TypeError",
     "evalue": "unhashable type: 'list'",
     "output_type": "error",
     "traceback": [
      "\u001b[0;31m---------------------------------------------------------------------------\u001b[0m",
      "\u001b[0;31mTypeError\u001b[0m                                 Traceback (most recent call last)",
      "Cell \u001b[0;32mIn[10], line 1\u001b[0m\n\u001b[0;32m----> 1\u001b[0m s\u001b[38;5;241m=\u001b[39m{\u001b[38;5;241m1\u001b[39m,\u001b[38;5;241m2\u001b[39m,\u001b[38;5;241m3\u001b[39m,\u001b[38;5;241m4\u001b[39m,\u001b[38;5;241m5\u001b[39m,[\u001b[38;5;241m1\u001b[39m,\u001b[38;5;241m2\u001b[39m,\u001b[38;5;241m4\u001b[39m]}\n\u001b[1;32m      2\u001b[0m \u001b[38;5;28mtype\u001b[39m(s)\n",
      "\u001b[0;31mTypeError\u001b[0m: unhashable type: 'list'"
     ]
    }
   ],
   "source": [
    "s={1,2,3,4,5,[1,2,4]}       #list is mutable so this is not vaild But immutable object is vaild for set like tuple and string\n",
    "type(s)"
   ]
  },
  {
   "cell_type": "code",
   "execution_count": 15,
   "id": "459a8eb7-6d13-4548-8310-3dd3384efc20",
   "metadata": {},
   "outputs": [
    {
     "data": {
      "text/plain": [
       "{1, 2, 3, 4, 5, 'DIPU', 'dipu'}"
      ]
     },
     "execution_count": 15,
     "metadata": {},
     "output_type": "execute_result"
    }
   ],
   "source": [
    "s={1,1,2,3,1,4,1,5,5,4,3,2,1,5,5,4,2,3,2,4,\"DIPU\",\"dipu\"}      # only unique element \n",
    "s"
   ]
  },
  {
   "cell_type": "code",
   "execution_count": 2,
   "id": "811086c3-7ccf-46d8-99fd-1882813f625c",
   "metadata": {},
   "outputs": [
    {
     "ename": "NameError",
     "evalue": "name 's' is not defined",
     "output_type": "error",
     "traceback": [
      "\u001b[0;31m---------------------------------------------------------------------------\u001b[0m",
      "\u001b[0;31mNameError\u001b[0m                                 Traceback (most recent call last)",
      "Cell \u001b[0;32mIn[2], line 2\u001b[0m\n\u001b[1;32m      1\u001b[0m \u001b[38;5;66;03m#s[0]\u001b[39;00m\n\u001b[0;32m----> 2\u001b[0m \u001b[43ms\u001b[49m[::\u001b[38;5;241m-\u001b[39m\u001b[38;5;241m1\u001b[39m]\n",
      "\u001b[0;31mNameError\u001b[0m: name 's' is not defined"
     ]
    }
   ],
   "source": [
    "s[0]          # Set is not accept indexing and slicing this is very imp point \n",
    "s[::-1]"
   ]
  },
  {
   "cell_type": "code",
   "execution_count": null,
   "id": "ea5a4eb2-f699-4d92-a575-b40af3252c0d",
   "metadata": {},
   "outputs": [],
   "source": [
    "#add\n",
    "#remove"
   ]
  }
 ],
 "metadata": {
  "kernelspec": {
   "display_name": "Python 3 (ipykernel)",
   "language": "python",
   "name": "python3"
  },
  "language_info": {
   "codemirror_mode": {
    "name": "ipython",
    "version": 3
   },
   "file_extension": ".py",
   "mimetype": "text/x-python",
   "name": "python",
   "nbconvert_exporter": "python",
   "pygments_lexer": "ipython3",
   "version": "3.10.8"
  }
 },
 "nbformat": 4,
 "nbformat_minor": 5
}
