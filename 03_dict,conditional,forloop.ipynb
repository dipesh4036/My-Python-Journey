{
 "cells": [
  {
   "cell_type": "markdown",
   "id": "1daf416c-c2cd-418b-86a5-2f2b53bdff36",
   "metadata": {},
   "source": [
    "Dictionary:     mutable"
   ]
  },
  {
   "cell_type": "code",
   "execution_count": 3,
   "id": "c45047ab-3320-42f5-9105-5492f68628ce",
   "metadata": {},
   "outputs": [
    {
     "data": {
      "text/plain": [
       "22344"
      ]
     },
     "execution_count": 3,
     "metadata": {},
     "output_type": "execute_result"
    }
   ],
   "source": [
    "d={'name':\"dipu\",'email':'ss@gmail.com','number':33455,True:22344}    # inside key all type of data type are insert also True ,String\n",
    "d['name']     # like indexing in Dictionary indexing is not working so class key value\n",
    "d[1]        # True values is 1 so it's vlaues is 22344"
   ]
  },
  {
   "cell_type": "code",
   "execution_count": 4,
   "id": "a37c46bb-b868-4016-ae64-9b5f97a718cd",
   "metadata": {},
   "outputs": [
    {
     "data": {
      "text/plain": [
       "'dipesh'"
      ]
     },
     "execution_count": 4,
     "metadata": {},
     "output_type": "execute_result"
    }
   ],
   "source": [
    "d2={'name':'sudh','mail':'ss@gmail','name':'dipesh'}\n",
    "d2['name']          # two key is same so overrading is there and second name is output "
   ]
  },
  {
   "cell_type": "code",
   "execution_count": 7,
   "id": "3d1e85e7-7438-4d28-bc2c-49080af210e6",
   "metadata": {},
   "outputs": [
    {
     "data": {
      "text/plain": [
       "'java'"
      ]
     },
     "execution_count": 7,
     "metadata": {},
     "output_type": "execute_result"
    }
   ],
   "source": [
    "d3={'company':'pwskills','course':['web D','data science','java with dsa']}\n",
    "d3['course'][2][:4]"
   ]
  },
  {
   "cell_type": "code",
   "execution_count": 9,
   "id": "c705867f-f097-463e-b402-eb78744faa3d",
   "metadata": {},
   "outputs": [
    {
     "data": {
      "text/plain": [
       "{'company': 'pwskills',\n",
       " 'course': ['web D', 'data science', 'java with dsa'],\n",
       " 'name': ['dipesh']}"
      ]
     },
     "execution_count": 9,
     "metadata": {},
     "output_type": "execute_result"
    }
   ],
   "source": [
    "# vlaues are put list,tuple,and dict also\n",
    "#adding any new key and values pair like this \n",
    "d3['name']=['dipesh']"
   ]
  },
  {
   "cell_type": "code",
   "execution_count": 13,
   "id": "f2c6f385-7e78-499d-a941-f3a71428fe95",
   "metadata": {},
   "outputs": [
    {
     "data": {
      "text/plain": [
       "[('company', 'pwskills'),\n",
       " ('course', ['web D', 'data science', 'java with dsa']),\n",
       " ('name', ['dipesh'])]"
      ]
     },
     "execution_count": 13,
     "metadata": {},
     "output_type": "execute_result"
    }
   ],
   "source": [
    "d3.keys()\n",
    "d3.values()\n",
    "list(d3.items())        #  some function"
   ]
  },
  {
   "cell_type": "code",
   "execution_count": 14,
   "id": "000c42db-018f-4a8c-a081-3bff721b34f3",
   "metadata": {},
   "outputs": [
    {
     "data": {
      "text/plain": [
       "['dipesh']"
      ]
     },
     "execution_count": 14,
     "metadata": {},
     "output_type": "execute_result"
    }
   ],
   "source": [
    "d3.pop('name')      #delete a key "
   ]
  },
  {
   "cell_type": "markdown",
   "id": "3ac3eb03-3dfe-4645-b90f-15ea0ced6458",
   "metadata": {},
   "source": [
    "Conditional:"
   ]
  },
  {
   "cell_type": "code",
   "execution_count": 4,
   "id": "d99c9504-d5fb-46ed-8ff5-168a7fb532f8",
   "metadata": {},
   "outputs": [
    {
     "name": "stdin",
     "output_type": "stream",
     "text": [
      "enter your marks: 10\n"
     ]
    },
    {
     "name": "stdout",
     "output_type": "stream",
     "text": [
      "you will be a part of last batch\n"
     ]
    }
   ],
   "source": [
    "n=int(input(\"enter your marks:\"))\n",
    "if n >= 80:\n",
    "    print(\"you will be a part of A0 batch\")\n",
    "elif  n<80 and n>=60:\n",
    "    print(\"you will be a part of A1 batch\")\n",
    "elif n<60 and n>=40:\n",
    "    print(\"you will be a part of B0 batch\")\n",
    "else:\n",
    "    print(\"you will be a part of last batch\")\n",
    "    "
   ]
  },
  {
   "cell_type": "code",
   "execution_count": 6,
   "id": "a9a42a53-78c2-486d-a1fe-5297e2430f6e",
   "metadata": {},
   "outputs": [
    {
     "name": "stdin",
     "output_type": "stream",
     "text": [
      "enter price: 1200\n"
     ]
    },
    {
     "name": "stdout",
     "output_type": "stream",
     "text": [
      "i will not purchase\n",
      "it's ok\n"
     ]
    }
   ],
   "source": [
    "price = int(input(\"enter price:\"))\n",
    "if price > 1000:\n",
    "    print(\"i will not purchase\")\n",
    "    if price>5000:\n",
    "        print(\"this is too much\")\n",
    "    elif price<2000:\n",
    "        print(\"it's ok\")\n",
    "elif price <1000:\n",
    "    print(\"i will purchase\")\n",
    "else:\n",
    "    print(\"check your price once again\")"
   ]
  },
  {
   "cell_type": "markdown",
   "id": "681871eb-1413-432d-be44-ecccc1a6ebbf",
   "metadata": {},
   "source": [
    "Loops:"
   ]
  },
  {
   "cell_type": "code",
   "execution_count": 9,
   "id": "8dcfb75c-b57a-4141-bbde-843fb664e12a",
   "metadata": {},
   "outputs": [
    {
     "data": {
      "text/plain": [
       "[2, 3, 4, 5, 6, 7, 8, 9, 10]"
      ]
     },
     "execution_count": 9,
     "metadata": {},
     "output_type": "execute_result"
    }
   ],
   "source": [
    "l=[1,2,3,4,5,6,7,8,9]\n",
    "l1=[]\n",
    "for i in l:\n",
    "    #print(i+1)\n",
    "    l1.append(i+1)      # using for loop append elements\n",
    "l1   "
   ]
  },
  {
   "cell_type": "code",
   "execution_count": 6,
   "id": "aabdc436-df6d-4a83-b3d9-e6c0546ea4d2",
   "metadata": {},
   "outputs": [
    {
     "data": {
      "text/plain": [
       "['SUDH', 'KUMAR', 'PWSKILL', 'COURSE']"
      ]
     },
     "execution_count": 6,
     "metadata": {},
     "output_type": "execute_result"
    }
   ],
   "source": [
    "l=['sudh','kumar','pwskill','course']\n",
    "l1=[]\n",
    "for i in l:\n",
    "    l1.append(i.upper())\n",
    "l1"
   ]
  },
  {
   "cell_type": "code",
   "execution_count": 13,
   "id": "5c98b70f-bfea-4044-abf7-7922a603fa12",
   "metadata": {},
   "outputs": [],
   "source": [
    "l=[1,2,3,4,5,\"sudh\",\"kumar\",34.345,\"abc\",True]\n",
    "l_str=[]\n",
    "l_int=[]\n",
    "for i in l:\n",
    "    if type(i)==int:\n",
    "        l_int.append(i)\n",
    "    elif type(i)==str:\n",
    "        l_str.append(i)\n",
    "    else:\n",
    "        l_int.append(i)"
   ]
  },
  {
   "cell_type": "code",
   "execution_count": 14,
   "id": "2bf0bc83-07c2-47df-9fde-810fb0b437a1",
   "metadata": {},
   "outputs": [
    {
     "data": {
      "text/plain": [
       "[1, 2, 3, 4, 5, 34.345, True]"
      ]
     },
     "execution_count": 14,
     "metadata": {},
     "output_type": "execute_result"
    }
   ],
   "source": [
    "l_int"
   ]
  },
  {
   "cell_type": "code",
   "execution_count": 15,
   "id": "37371b89-5657-4b5f-b2aa-862e5ed5664d",
   "metadata": {},
   "outputs": [
    {
     "data": {
      "text/plain": [
       "['sudh', 'kumar', 'abc']"
      ]
     },
     "execution_count": 15,
     "metadata": {},
     "output_type": "execute_result"
    }
   ],
   "source": [
    "l_str"
   ]
  },
  {
   "cell_type": "markdown",
   "id": "baa734eb-9c8d-492e-8d90-94d43d68aa98",
   "metadata": {},
   "source": [
    "Using Else Conditional With For loop:"
   ]
  },
  {
   "cell_type": "code",
   "execution_count": 1,
   "id": "7ebd9b23-f3ef-43aa-8659-9c1de1cafd73",
   "metadata": {},
   "outputs": [
    {
     "name": "stdout",
     "output_type": "stream",
     "text": [
      "sudh\n",
      "kumar\n",
      "pwskill\n",
      "course\n",
      "do something\n"
     ]
    }
   ],
   "source": [
    "l2=['sudh','kumar','pwskill','course']\n",
    "for i in l2:\n",
    "    print(i)\n",
    "else:\n",
    "    print(\"do something\")           # if for loop is able to complete itself then only else will execute"
   ]
  },
  {
   "cell_type": "code",
   "execution_count": 3,
   "id": "3babd307-e3ea-4e49-a17e-ff0d9d417c7c",
   "metadata": {},
   "outputs": [
    {
     "name": "stdout",
     "output_type": "stream",
     "text": [
      "sudh\n"
     ]
    }
   ],
   "source": [
    "for i in l2:\n",
    "    if i==\"kumar\":\n",
    "        break             #using break statement\n",
    "    print(i)\n",
    "else:\n",
    "    print(\"execute this if for loop is able to complte itself\")"
   ]
  },
  {
   "cell_type": "code",
   "execution_count": 5,
   "id": "a325b889-c799-4fbc-b589-f9a4124280ce",
   "metadata": {},
   "outputs": [
    {
     "name": "stdout",
     "output_type": "stream",
     "text": [
      "sudh\n",
      "pwskill\n",
      "course\n",
      "execute this if for loop is able to complte itself !\n"
     ]
    }
   ],
   "source": [
    "for i in l2:\n",
    "    if i==\"kumar\":\n",
    "        continue             #using continue statement\n",
    "    print(i)\n",
    "else:\n",
    "    print(\"execute this if for loop is able to complte itself !\")"
   ]
  },
  {
   "cell_type": "code",
   "execution_count": 6,
   "id": "648500b5-9aed-4b65-8df5-eeb1d0ea407b",
   "metadata": {},
   "outputs": [
    {
     "name": "stdout",
     "output_type": "stream",
     "text": [
      "course\n",
      "pwskill\n",
      "kumar\n",
      "sudh\n"
     ]
    }
   ],
   "source": [
    "l2=['sudh','kumar','pwskill','course']\n",
    "for i in range(len(l2)-1,-1,-1):\n",
    "    print(l2[i])               # reverse list of string "
   ]
  },
  {
   "cell_type": "code",
   "execution_count": 7,
   "id": "0ad52d8f-5d0d-4c27-bf5b-0a4292dafbce",
   "metadata": {},
   "outputs": [
    {
     "name": "stdout",
     "output_type": "stream",
     "text": [
      "1\n",
      "3\n",
      "5\n",
      "7\n",
      "9\n"
     ]
    }
   ],
   "source": [
    "l3=[1,2,3,4,5,6,7,8,9]\n",
    "for i in range(0,len(l3),2):\n",
    "    print(l3[i])          # even index number using range function and for loop"
   ]
  },
  {
   "cell_type": "code",
   "execution_count": 9,
   "id": "6205ede5-b9be-4621-8b2f-07cd4d60f7c8",
   "metadata": {},
   "outputs": [
    {
     "data": {
      "text/plain": [
       "45"
      ]
     },
     "execution_count": 9,
     "metadata": {},
     "output_type": "execute_result"
    }
   ],
   "source": [
    "sum=0\n",
    "for i in l3:\n",
    "    sum=sum+i\n",
    "sum"
   ]
  },
  {
   "cell_type": "code",
   "execution_count": null,
   "id": "18df15a6-f159-46f4-adcb-09dfe83026a0",
   "metadata": {},
   "outputs": [],
   "source": []
  }
 ],
 "metadata": {
  "kernelspec": {
   "display_name": "Python 3 (ipykernel)",
   "language": "python",
   "name": "python3"
  },
  "language_info": {
   "codemirror_mode": {
    "name": "ipython",
    "version": 3
   },
   "file_extension": ".py",
   "mimetype": "text/x-python",
   "name": "python",
   "nbconvert_exporter": "python",
   "pygments_lexer": "ipython3",
   "version": "3.10.8"
  }
 },
 "nbformat": 4,
 "nbformat_minor": 5
}
