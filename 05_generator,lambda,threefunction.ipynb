{
 "cells": [
  {
   "cell_type": "markdown",
   "id": "3b159f53-e5af-4a6f-a57f-6ba20cb2ece6",
   "metadata": {},
   "source": [
    "Generator Functions:"
   ]
  },
  {
   "cell_type": "code",
   "execution_count": 2,
   "id": "167ccaf2-a15c-4f31-877f-b9acc0ba6421",
   "metadata": {},
   "outputs": [
    {
     "name": "stdout",
     "output_type": "stream",
     "text": [
      "0\n",
      "1\n",
      "1\n",
      "2\n",
      "3\n",
      "5\n",
      "8\n",
      "13\n",
      "21\n",
      "34\n"
     ]
    }
   ],
   "source": [
    "# using for loop fibonacci numbers:\n",
    "def fib_num(n):\n",
    "    a,b=0,1\n",
    "    for i in range(n):\n",
    "        yield a\n",
    "        a,b=b,a+b\n",
    "for i in fib_num(10):\n",
    "    print(i)"
   ]
  },
  {
   "cell_type": "code",
   "execution_count": 21,
   "id": "4ca907ad-6e59-48e6-a96c-65a588d34240",
   "metadata": {},
   "outputs": [
    {
     "name": "stdout",
     "output_type": "stream",
     "text": [
      "0\n",
      "1\n",
      "1\n",
      "2\n",
      "3\n",
      "5\n",
      "8\n",
      "13\n",
      "21\n",
      "34\n"
     ]
    }
   ],
   "source": [
    "# using while loop fibonacci numbers:\n",
    "def fib_num1():\n",
    "    a,b=0,1\n",
    "    while True:\n",
    "        yield a\n",
    "        a,b=b,a+b\n",
    "        \n",
    "fib=fib_num1()\n",
    "for i in range(10):\n",
    "    print(next(fib))"
   ]
  },
  {
   "cell_type": "code",
   "execution_count": 11,
   "id": "af9c2ccd-596e-497e-8ce4-4ccfab946007",
   "metadata": {},
   "outputs": [
    {
     "data": {
      "text/plain": [
       "'h'"
      ]
     },
     "execution_count": 11,
     "metadata": {},
     "output_type": "execute_result"
    }
   ],
   "source": [
    "# iterators: An iterator is an object that contains a countable number of values. \n",
    "# which consist of the methods __iter__() and __next__() .\n",
    "s=\"sudh\"\n",
    "s1=iter(s)\n",
    "next(s1)\n",
    "next(s1)\n",
    "next(s1)\n",
    "next(s1)\n",
    "#  An iterable is any object capable of returning its members one at a time, permitting it to be iterated over in a for-loop.\n",
    "# examples of iterables include lists, tuples, and strings "
   ]
  },
  {
   "cell_type": "code",
   "execution_count": 22,
   "id": "c842d592-c3bc-4327-a61a-17074437a053",
   "metadata": {},
   "outputs": [
    {
     "name": "stdout",
     "output_type": "stream",
     "text": [
      "1\n",
      "2\n",
      "3\n",
      "4\n",
      "5\n"
     ]
    }
   ],
   "source": [
    "# generator example:\n",
    "def count_num(n):\n",
    "    count=1\n",
    "    while count<=n:\n",
    "        yield count\n",
    "        count=count+1\n",
    "c=count_num(5)\n",
    "for i in c:\n",
    "    print(i)"
   ]
  },
  {
   "cell_type": "markdown",
   "id": "977f6065-6569-49f9-97d6-7e3e52d3162f",
   "metadata": {},
   "source": [
    "lambda Function:"
   ]
  },
  {
   "cell_type": "code",
   "execution_count": 25,
   "id": "0519ebdd-0b84-4714-b8e1-2581be4eb14e",
   "metadata": {},
   "outputs": [
    {
     "data": {
      "text/plain": [
       "8"
      ]
     },
     "execution_count": 25,
     "metadata": {},
     "output_type": "execute_result"
    }
   ],
   "source": [
    "a=lambda n,p:n**p\n",
    "a(2,3)"
   ]
  },
  {
   "cell_type": "code",
   "execution_count": 26,
   "id": "266adc27-0526-41aa-9e01-2246ad4b8b40",
   "metadata": {},
   "outputs": [
    {
     "data": {
      "text/plain": [
       "79"
      ]
     },
     "execution_count": 26,
     "metadata": {},
     "output_type": "execute_result"
    }
   ],
   "source": [
    "add=lambda x,y:x+y\n",
    "add(34,45)"
   ]
  },
  {
   "cell_type": "code",
   "execution_count": 29,
   "id": "2966ca10-71f0-47e3-9170-e956c794af81",
   "metadata": {},
   "outputs": [
    {
     "data": {
      "text/plain": [
       "7.222222222222222"
      ]
     },
     "execution_count": 29,
     "metadata": {},
     "output_type": "execute_result"
    }
   ],
   "source": [
    "cal=lambda f:(f-32)/1.8\n",
    "cal(45)"
   ]
  },
  {
   "cell_type": "code",
   "execution_count": 36,
   "id": "13bf2c77-7d46-4635-bec3-703f6c7695ac",
   "metadata": {},
   "outputs": [
    {
     "data": {
      "text/plain": [
       "20"
      ]
     },
     "execution_count": 36,
     "metadata": {},
     "output_type": "execute_result"
    }
   ],
   "source": [
    "max=lambda x,y: x if x>y else y\n",
    "max(20,3)"
   ]
  },
  {
   "cell_type": "code",
   "execution_count": 37,
   "id": "c5ba8e8b-2e38-4651-9846-a605816b1d3a",
   "metadata": {},
   "outputs": [
    {
     "data": {
      "text/plain": [
       "8"
      ]
     },
     "execution_count": 37,
     "metadata": {},
     "output_type": "execute_result"
    }
   ],
   "source": [
    "s=\"pwskills\"\n",
    "len_s=lambda s:len(s)\n",
    "len_s(s)"
   ]
  },
  {
   "cell_type": "markdown",
   "id": "eb45bbde-5f7d-4259-be7a-4a9246f500f9",
   "metadata": {},
   "source": [
    "map,reduce and filter function:"
   ]
  },
  {
   "cell_type": "code",
   "execution_count": 43,
   "id": "beae7445-6557-46d6-b2e4-74a2a58ad32c",
   "metadata": {},
   "outputs": [
    {
     "data": {
      "text/plain": [
       "[1, 4, 9, 16, 25]"
      ]
     },
     "execution_count": 43,
     "metadata": {},
     "output_type": "execute_result"
    }
   ],
   "source": [
    "# map:\n",
    "l=[1,2,3,4,5]\n",
    "def test(l):\n",
    "    l1=[]\n",
    "    for i in l:\n",
    "        l1.append(i**2)      # using normal function\n",
    "    return l1\n",
    "test(l)"
   ]
  },
  {
   "cell_type": "code",
   "execution_count": 49,
   "id": "29547dde-b1b4-4a4a-a443-a99b24acaccc",
   "metadata": {},
   "outputs": [
    {
     "data": {
      "text/plain": [
       "[1, 4, 9, 16, 25]"
      ]
     },
     "execution_count": 49,
     "metadata": {},
     "output_type": "execute_result"
    }
   ],
   "source": [
    "def sq(x):\n",
    "    return x**2    #using external function\n",
    "list(map(sq,l))"
   ]
  },
  {
   "cell_type": "code",
   "execution_count": 50,
   "id": "10e0aeab-87ef-41a4-9619-293181833298",
   "metadata": {},
   "outputs": [
    {
     "data": {
      "text/plain": [
       "[1, 4, 9, 16, 25]"
      ]
     },
     "execution_count": 50,
     "metadata": {},
     "output_type": "execute_result"
    }
   ],
   "source": [
    "list(map(lambda l:l**2 ,l))    # using lambda function"
   ]
  },
  {
   "cell_type": "code",
   "execution_count": 51,
   "id": "3863a970-a16e-4d13-aed5-552da5bd3032",
   "metadata": {},
   "outputs": [
    {
     "data": {
      "text/plain": [
       "[7, 9, 11, 13, 15]"
      ]
     },
     "execution_count": 51,
     "metadata": {},
     "output_type": "execute_result"
    }
   ],
   "source": [
    "l1=[1,2,3,4,5]\n",
    "l2=[6,7,8,9,10]\n",
    "list(map(lambda x,y:x+y ,l1,l2))     # another example map function"
   ]
  },
  {
   "cell_type": "code",
   "execution_count": 52,
   "id": "8305649f-0f5e-49b8-ae0f-2e9b447f6e99",
   "metadata": {},
   "outputs": [
    {
     "data": {
      "text/plain": [
       "['P', 'W', 'S', 'K', 'I', 'L', 'L', 'S']"
      ]
     },
     "execution_count": 52,
     "metadata": {},
     "output_type": "execute_result"
    }
   ],
   "source": [
    "s=\"pwskills\"\n",
    "list(map(lambda s:s.upper() ,s))"
   ]
  },
  {
   "cell_type": "code",
   "execution_count": 63,
   "id": "6fd40fbf-7797-4a2c-b066-2226dd057b95",
   "metadata": {},
   "outputs": [
    {
     "data": {
      "text/plain": [
       "20"
      ]
     },
     "execution_count": 63,
     "metadata": {},
     "output_type": "execute_result"
    }
   ],
   "source": [
    "# reduce:\n",
    "from functools import reduce\n",
    "l=[1,2,3,4,0,4,3,2,1]\n",
    "reduce(lambda x,y : x+y ,l)"
   ]
  },
  {
   "cell_type": "code",
   "execution_count": 64,
   "id": "4095c7a1-a24d-4fae-a92e-4f712bce37ca",
   "metadata": {},
   "outputs": [
    {
     "data": {
      "text/plain": [
       "4"
      ]
     },
     "execution_count": 64,
     "metadata": {},
     "output_type": "execute_result"
    }
   ],
   "source": [
    "reduce(lambda x,y: x if x>y else y,l)"
   ]
  },
  {
   "cell_type": "code",
   "execution_count": 66,
   "id": "f018f9ac-db9a-4644-a412-50a2eb6c1a67",
   "metadata": {},
   "outputs": [
    {
     "data": {
      "text/plain": [
       "[2, 4, 6, 8, 10]"
      ]
     },
     "execution_count": 66,
     "metadata": {},
     "output_type": "execute_result"
    }
   ],
   "source": [
    "# filter\n",
    "l1=[1,2,3,4,5,6,7,8,9,10]\n",
    "list(filter(lambda x: x%2==0,l1))"
   ]
  },
  {
   "cell_type": "code",
   "execution_count": 69,
   "id": "91441b88-1881-481d-be11-050f6a62aaf1",
   "metadata": {},
   "outputs": [
    {
     "data": {
      "text/plain": [
       "[-2, -8, -8]"
      ]
     },
     "execution_count": 69,
     "metadata": {},
     "output_type": "execute_result"
    }
   ],
   "source": [
    "l2=[-2,5,-8,1,-8,0,5,2]\n",
    "list(filter(lambda x: x<0 ,l2))"
   ]
  },
  {
   "cell_type": "code",
   "execution_count": 72,
   "id": "26bb8243-1015-4a08-ae2d-7750d291e1eb",
   "metadata": {},
   "outputs": [
    {
     "data": {
      "text/plain": [
       "['sudh', 'kumar', 'krish']"
      ]
     },
     "execution_count": 72,
     "metadata": {},
     "output_type": "execute_result"
    }
   ],
   "source": [
    "l_name=[\"sudh\",\"pwskills\",\"kumar\",\"bangalore\",\"krish\"]\n",
    "list(filter(lambda x: len(x)<6 ,l_name))"
   ]
  },
  {
   "cell_type": "code",
   "execution_count": null,
   "id": "38114c29-3e2c-4084-8823-f73e439d374c",
   "metadata": {},
   "outputs": [],
   "source": []
  }
 ],
 "metadata": {
  "kernelspec": {
   "display_name": "Python 3 (ipykernel)",
   "language": "python",
   "name": "python3"
  },
  "language_info": {
   "codemirror_mode": {
    "name": "ipython",
    "version": 3
   },
   "file_extension": ".py",
   "mimetype": "text/x-python",
   "name": "python",
   "nbconvert_exporter": "python",
   "pygments_lexer": "ipython3",
   "version": "3.10.8"
  }
 },
 "nbformat": 4,
 "nbformat_minor": 5
}
