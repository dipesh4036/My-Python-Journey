{
 "cells": [
  {
   "cell_type": "markdown",
   "id": "3e71807e-d227-4253-9685-b485707fbb64",
   "metadata": {},
   "source": [
    "Variables:"
   ]
  },
  {
   "cell_type": "code",
   "execution_count": 1,
   "id": "df14f98c-e485-42c4-97a9-b789efba0efe",
   "metadata": {},
   "outputs": [
    {
     "data": {
      "text/plain": [
       "57"
      ]
     },
     "execution_count": 1,
     "metadata": {},
     "output_type": "execute_result"
    }
   ],
   "source": [
    "a=23\n",
    "b=34\n",
    "a+b"
   ]
  },
  {
   "cell_type": "code",
   "execution_count": 2,
   "id": "69db8562-5023-4a12-8565-51cb732b1967",
   "metadata": {},
   "outputs": [
    {
     "data": {
      "text/plain": [
       "str"
      ]
     },
     "execution_count": 2,
     "metadata": {},
     "output_type": "execute_result"
    }
   ],
   "source": [
    "a=23\n",
    "s=\"dipu\"\n",
    "type(a)\n",
    "type(s)"
   ]
  },
  {
   "cell_type": "code",
   "execution_count": null,
   "id": "8116e7c5-5657-48a1-bef9-18a299c2d0eb",
   "metadata": {},
   "outputs": [],
   "source": [
    "c=2+3j\n",
    "c.real\n",
    "c.imag"
   ]
  },
  {
   "cell_type": "code",
   "execution_count": 3,
   "id": "2b9a93ce-628a-4a3e-a38d-9cb26dd91434",
   "metadata": {},
   "outputs": [
    {
     "data": {
      "text/plain": [
       "1"
      ]
     },
     "execution_count": 3,
     "metadata": {},
     "output_type": "execute_result"
    }
   ],
   "source": [
    "n=True\n",
    "m=False\n",
    "m+n"
   ]
  },
  {
   "cell_type": "code",
   "execution_count": 4,
   "id": "a1a88e63-2320-4e06-9c4b-c95c6e4b384b",
   "metadata": {},
   "outputs": [
    {
     "data": {
      "text/plain": [
       "0"
      ]
     },
     "execution_count": 4,
     "metadata": {},
     "output_type": "execute_result"
    }
   ],
   "source": [
    "True*False"
   ]
  },
  {
   "cell_type": "markdown",
   "id": "31b5b296-25ff-4ed5-a19e-3312ebb336fe",
   "metadata": {},
   "source": [
    "Indexing And Slicing:"
   ]
  },
  {
   "cell_type": "code",
   "execution_count": 11,
   "id": "3145fd2e-06e3-41a5-a1fc-6943119e9d2a",
   "metadata": {},
   "outputs": [
    {
     "ename": "IndexError",
     "evalue": "string index out of range",
     "output_type": "error",
     "traceback": [
      "\u001b[0;31m---------------------------------------------------------------------------\u001b[0m",
      "\u001b[0;31mIndexError\u001b[0m                                Traceback (most recent call last)",
      "Cell \u001b[0;32mIn[11], line 9\u001b[0m\n\u001b[1;32m      7\u001b[0m s[\u001b[38;5;241m8\u001b[39m:\u001b[38;5;241m0\u001b[39m]     \u001b[38;5;66;03m# same as above\u001b[39;00m\n\u001b[1;32m      8\u001b[0m s[\u001b[38;5;241m8\u001b[39m:\u001b[38;5;241m-\u001b[39m\u001b[38;5;241m1\u001b[39m:\u001b[38;5;241m-\u001b[39m\u001b[38;5;241m1\u001b[39m]\n\u001b[0;32m----> 9\u001b[0m \u001b[43ms\u001b[49m\u001b[43m[\u001b[49m\u001b[38;5;241;43m90\u001b[39;49m\u001b[43m]\u001b[49m\n\u001b[1;32m     10\u001b[0m s[:\u001b[38;5;241m-\u001b[39m\u001b[38;5;241m90\u001b[39m:]\n",
      "\u001b[0;31mIndexError\u001b[0m: string index out of range"
     ]
    }
   ],
   "source": [
    "s=\"pwskills\"\n",
    "s[0]\n",
    "s[-2]\n",
    "s[0:3]\n",
    "s[::-1]\n",
    "s[2:8:-1]  #jump is change\n",
    "s[8:0]     # same as above\n",
    "s[8:-1:-1]\n",
    "s[90]\n",
    "s[:-90:]"
   ]
  },
  {
   "cell_type": "code",
   "execution_count": 12,
   "id": "5da3af1e-bb80-4228-b26a-9f7124048954",
   "metadata": {},
   "outputs": [
    {
     "data": {
      "text/plain": [
       "'2'"
      ]
     },
     "execution_count": 12,
     "metadata": {},
     "output_type": "execute_result"
    }
   ],
   "source": [
    "# c=200  I have to remove 2 out of 200 first convert into string and after remove 2\n",
    "c=\"200\"\n",
    "c[0]"
   ]
  },
  {
   "cell_type": "code",
   "execution_count": 13,
   "id": "ec179139-ccc8-48b7-987a-eb4ce1fc002b",
   "metadata": {},
   "outputs": [
    {
     "data": {
      "text/plain": [
       "23"
      ]
     },
     "execution_count": 13,
     "metadata": {},
     "output_type": "execute_result"
    }
   ],
   "source": [
    "#length of string\n",
    "s=\"this is my string class\"\n",
    "len(s)"
   ]
  },
  {
   "cell_type": "code",
   "execution_count": 18,
   "id": "9b6446ed-7880-4f4a-b9b9-9c329fd2843b",
   "metadata": {},
   "outputs": [
    {
     "data": {
      "text/plain": [
       "-1"
      ]
     },
     "execution_count": 18,
     "metadata": {},
     "output_type": "execute_result"
    }
   ],
   "source": [
    "s.find(\"s\")\n",
    "s.find(\"iS\")   # S is not find so give -1 "
   ]
  },
  {
   "cell_type": "code",
   "execution_count": 20,
   "id": "6058d232-bc9a-4e76-a46a-831279dd53f1",
   "metadata": {},
   "outputs": [
    {
     "data": {
      "text/plain": [
       "0"
      ]
     },
     "execution_count": 20,
     "metadata": {},
     "output_type": "execute_result"
    }
   ],
   "source": [
    "s.count('s')     # count the word\n",
    "s.count('z')     # z is not find so give 0"
   ]
  },
  {
   "cell_type": "code",
   "execution_count": 37,
   "id": "48e4ab68-7337-40b6-b6cc-a81997d93ad0",
   "metadata": {},
   "outputs": [
    {
     "data": {
      "text/plain": [
       "'This is my string class'"
      ]
     },
     "execution_count": 37,
     "metadata": {},
     "output_type": "execute_result"
    }
   ],
   "source": [
    "s.upper()   #all word in upper case\n",
    "s[3].upper()   #indixing \n",
    "s.lower()   # all word in lower case\n",
    "s.title()   # all first word in upper case\n",
    "s.capitalize()   #only first word upper case\n"
   ]
  },
  {
   "cell_type": "markdown",
   "id": "4201cf63-57ab-4f5b-81b4-3faf5a3f4cd1",
   "metadata": {},
   "source": [
    "Typecasting:"
   ]
  },
  {
   "cell_type": "code",
   "execution_count": 31,
   "id": "1ad725ae-2372-417e-a3f1-3f99458ecf46",
   "metadata": {},
   "outputs": [
    {
     "data": {
      "text/plain": [
       "'this is my string class1'"
      ]
     },
     "execution_count": 31,
     "metadata": {},
     "output_type": "execute_result"
    }
   ],
   "source": [
    "s1=\"dipesh \"\n",
    "s+str(1)"
   ]
  },
  {
   "cell_type": "code",
   "execution_count": 34,
   "id": "4a9b29f1-1ab2-4b85-86d5-9f9834152bb5",
   "metadata": {},
   "outputs": [
    {
     "data": {
      "text/plain": [
       "' dipesh   dipesh   dipesh  '"
      ]
     },
     "execution_count": 34,
     "metadata": {},
     "output_type": "execute_result"
    }
   ],
   "source": [
    "s1 * 3"
   ]
  },
  {
   "cell_type": "code",
   "execution_count": 35,
   "id": "961bbddc-f3d4-4a3c-aabf-674467304635",
   "metadata": {},
   "outputs": [
    {
     "data": {
      "text/plain": [
       "\"dot't do copy and paste in my class\""
      ]
     },
     "execution_count": 35,
     "metadata": {},
     "output_type": "execute_result"
    }
   ],
   "source": [
    "\"dot't do copy and paste in my class\"    #also ''' dot't do copy and paste in my class ''' \n"
   ]
  },
  {
   "cell_type": "code",
   "execution_count": null,
   "id": "2b7b80cf-2a06-4287-ad02-0122af155a91",
   "metadata": {},
   "outputs": [],
   "source": []
  }
 ],
 "metadata": {
  "kernelspec": {
   "display_name": "Python 3 (ipykernel)",
   "language": "python",
   "name": "python3"
  },
  "language_info": {
   "codemirror_mode": {
    "name": "ipython",
    "version": 3
   },
   "file_extension": ".py",
   "mimetype": "text/x-python",
   "name": "python",
   "nbconvert_exporter": "python",
   "pygments_lexer": "ipython3",
   "version": "3.10.8"
  }
 },
 "nbformat": 4,
 "nbformat_minor": 5
}
